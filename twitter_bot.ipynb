{
 "cells": [
  {
   "cell_type": "code",
   "execution_count": null,
   "metadata": {},
   "outputs": [],
   "source": [
    "import tweepy\n",
    "import datetime\n",
    "import time\n",
    "import json\n",
    "import requests\n",
    "from bs4 import BeautifulSoup"
   ]
  },
  {
   "cell_type": "code",
   "execution_count": null,
   "metadata": {},
   "outputs": [],
   "source": [
    "# Load API keys\n",
    "with open('keys.json', 'r') as file:\n",
    "    keys = json.loads(file.read())\n",
    "    \n",
    "consumer_key = keys['consumer_key']\n",
    "consumer_secret = keys['consumer_secret']\n",
    "\n",
    "access_token = keys['access_token']\n",
    "\n",
    "access_token_secret = keys['access_token_secret']\n",
    "\n",
    "\n",
    "# Authenticate Tweepy\n",
    "auth = tweepy.OAuthHandler(consumer_key, consumer_secret)\n",
    "auth.set_access_token(access_token, access_token_secret)\n",
    "api = tweepy.API(auth)"
   ]
  },
  {
   "cell_type": "markdown",
   "metadata": {},
   "source": [
    "//*[@id=\"content-column\"]/div[5]/div/div[3]/div[1]/div[1]/div[3]/p/span/text()"
   ]
  },
  {
   "cell_type": "code",
   "execution_count": null,
   "metadata": {
    "scrolled": true
   },
   "outputs": [],
   "source": [
    "while True:\n",
    "    site = requests.get('https://www.biblestudytools.com/bible-verse-of-the-day/')\n",
    "    soup = BeautifulSoup(site.text, 'lxml')\n",
    "    text = []\n",
    "    x = 0\n",
    "    target = soup.find_all('p')[1]\n",
    "    text = target.text\n",
    "    x = []\n",
    "    y = []\n",
    "    for i in text.split('\\n')[4].split(\" \"):\n",
    "        if i != '':\n",
    "            x.append(i + \" \")\n",
    "    title = x[0] + x[1].replace('\\r ', '')\n",
    "    body = text.split('\\n')[9][:text.split('\\n')[9].find('  ')]\n",
    "    statement = title + '\\n' +  body\n",
    "    tweet = api.update_status(statement)\n",
    "    print(tweet.id)\n",
    "    print(tweet.text)\n",
    "    print(tweet.created_at)\n",
    "    time.sleep(86400)"
   ]
  },
  {
   "cell_type": "code",
   "execution_count": null,
   "metadata": {},
   "outputs": [],
   "source": [
    "while True:    \n",
    "    for tweet in api.direct_messages():\n",
    "        recipient = tweet.sender.id\n",
    "        message = \"You have been heard, \" + tweet.sender.screen_name + \", and you have been absolved.\"\n",
    "        api.send_direct_message(tweet.sender.id_str, text=message)\n",
    "        api.destroy_direct_message(tweet.id)"
   ]
  },
  {
   "cell_type": "code",
   "execution_count": null,
   "metadata": {},
   "outputs": [],
   "source": [
    "#tweets date and time every minute\n",
    "months = ['Jan', 'Feb', 'Mar', 'Apr', 'May', 'Jun', 'Jul', 'Aug', 'Sep', 'Oct', 'Nov', 'Dec']\n",
    "while True:\n",
    "    date = datetime.datetime.today()\n",
    "    month = months[date.month - 1]\n",
    "    year = date.year\n",
    "    day = date.day\n",
    "    minute = str(date.minute)\n",
    "    if date.minute< 10:\n",
    "        minute = '0' + minute\n",
    "    if date.hour > 12:\n",
    "        hour = date.hour - 12\n",
    "        x = ' PM'\n",
    "    else:\n",
    "        hour = date.hour\n",
    "        x = ' AM'\n",
    "    statement = 'It is ' + str(hour) + ':' + str(minute) + x + ' on ' + str(month) + ' ' + str(day) + ', ' + str(year)\n",
    "    tweet = api.update_status(statement)\n",
    "    print(tweet.id)\n",
    "    print(tweet.text)\n",
    "    print(tweet.created_at)\n",
    "    time.sleep(60)"
   ]
  }
 ],
 "metadata": {
  "kernelspec": {
   "display_name": "Python 3",
   "language": "python",
   "name": "python3"
  },
  "language_info": {
   "codemirror_mode": {
    "name": "ipython",
    "version": 3
   },
   "file_extension": ".py",
   "mimetype": "text/x-python",
   "name": "python",
   "nbconvert_exporter": "python",
   "pygments_lexer": "ipython3",
   "version": "3.6.1"
  }
 },
 "nbformat": 4,
 "nbformat_minor": 2
}
