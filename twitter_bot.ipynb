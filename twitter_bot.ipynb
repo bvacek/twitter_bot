{
 "cells": [
  {
   "cell_type": "code",
   "execution_count": 5,
   "metadata": {
    "collapsed": true
   },
   "outputs": [],
   "source": [
    "import tweepy\n",
    "import datetime\n",
    "import time"
   ]
  },
  {
   "cell_type": "code",
   "execution_count": 6,
   "metadata": {
    "collapsed": true
   },
   "outputs": [],
   "source": [
    "# Load API keys\n",
    "consumer_key = 'r9rjmSCf9OB3fAhAWf1rEfBRX'\n",
    "consumer_secret = 'kCBBL97bl8bDGGBAzAE5qIv7dvs89Gc34NkDUB74r3oH2RmbOF'\n",
    "\n",
    "access_token = '920834080991842304-bP9SN8n9u57Ta2oUVHwhOTLqPNMJPSC'\n",
    "\n",
    "access_token_secret = 'tXv7UNSrTgxLp8JZFMJe7vqcQvlhU8IfVXuJfZ7Dy8qgb'\n",
    "\n",
    "\n",
    "# Authenticate Tweepy\n",
    "auth = tweepy.OAuthHandler(consumer_key, consumer_secret)\n",
    "auth.set_access_token(access_token, access_token_secret)\n",
    "api = tweepy.API(auth)"
   ]
  },
  {
   "cell_type": "code",
   "execution_count": 7,
   "metadata": {},
   "outputs": [
    {
     "name": "stdout",
     "output_type": "stream",
     "text": [
      "920903143830978560\n",
      "It is 1:43 AM on Oct 19, 2017\n",
      "2017-10-19 06:43:13\n",
      "920903397070524416\n",
      "It is 1:44 AM on Oct 19, 2017\n",
      "2017-10-19 06:44:14\n",
      "920903650091945984\n",
      "It is 1:45 AM on Oct 19, 2017\n",
      "2017-10-19 06:45:14\n",
      "920903903306289153\n",
      "It is 1:46 AM on Oct 19, 2017\n",
      "2017-10-19 06:46:14\n"
     ]
    },
    {
     "ename": "KeyboardInterrupt",
     "evalue": "",
     "output_type": "error",
     "traceback": [
      "\u001b[0;31m---------------------------------------------------------------------------\u001b[0m",
      "\u001b[0;31mKeyboardInterrupt\u001b[0m                         Traceback (most recent call last)",
      "\u001b[0;32m<ipython-input-7-7994cf68b8d4>\u001b[0m in \u001b[0;36m<module>\u001b[0;34m()\u001b[0m\n\u001b[1;32m     20\u001b[0m     \u001b[0mprint\u001b[0m\u001b[0;34m(\u001b[0m\u001b[0mtweet\u001b[0m\u001b[0;34m.\u001b[0m\u001b[0mtext\u001b[0m\u001b[0;34m)\u001b[0m\u001b[0;34m\u001b[0m\u001b[0m\n\u001b[1;32m     21\u001b[0m     \u001b[0mprint\u001b[0m\u001b[0;34m(\u001b[0m\u001b[0mtweet\u001b[0m\u001b[0;34m.\u001b[0m\u001b[0mcreated_at\u001b[0m\u001b[0;34m)\u001b[0m\u001b[0;34m\u001b[0m\u001b[0m\n\u001b[0;32m---> 22\u001b[0;31m     \u001b[0mtime\u001b[0m\u001b[0;34m.\u001b[0m\u001b[0msleep\u001b[0m\u001b[0;34m(\u001b[0m\u001b[0;36m60\u001b[0m\u001b[0;34m)\u001b[0m\u001b[0;34m\u001b[0m\u001b[0m\n\u001b[0m",
      "\u001b[0;31mKeyboardInterrupt\u001b[0m: "
     ]
    }
   ],
   "source": [
    "#tweets date and time every minute\n",
    "months = ['Jan', 'Feb', 'Mar', 'Apr', 'May', 'Jun', 'Jul', 'Aug', 'Sep', 'Oct', 'Nov', 'Dec']\n",
    "while True:\n",
    "    date = datetime.datetime.today()\n",
    "    month = months[date.month - 1]\n",
    "    year = date.year\n",
    "    day = date.day\n",
    "    minute = str(date.minute)\n",
    "    if date.minute< 10:\n",
    "        minute = '0' + minute\n",
    "    if date.hour > 12:\n",
    "        hour = date.hour - 12\n",
    "        x = ' PM'\n",
    "    else:\n",
    "        hour = date.hour\n",
    "        x = ' AM'\n",
    "    statement = 'It is ' + str(hour) + ':' + str(minute) + x + ' on ' + str(month) + ' ' + str(day) + ', ' + str(year)\n",
    "    tweet = api.update_status(statement)\n",
    "    print(tweet.id)\n",
    "    print(tweet.text)\n",
    "    print(tweet.created_at)\n",
    "    time.sleep(60)"
   ]
  }
 ],
 "metadata": {
  "kernelspec": {
   "display_name": "Python 3",
   "language": "python",
   "name": "python3"
  },
  "language_info": {
   "codemirror_mode": {
    "name": "ipython",
    "version": 3
   },
   "file_extension": ".py",
   "mimetype": "text/x-python",
   "name": "python",
   "nbconvert_exporter": "python",
   "pygments_lexer": "ipython3",
   "version": "3.6.1"
  }
 },
 "nbformat": 4,
 "nbformat_minor": 2
}
